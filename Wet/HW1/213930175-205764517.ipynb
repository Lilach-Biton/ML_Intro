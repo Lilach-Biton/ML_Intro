{
 "cells": [
  {
   "cell_type": "markdown",
   "metadata": {
    "id": "AaWOEIUIMac-"
   },
   "source": [
    "#HW1 - Data Exploration and Preparation"
   ]
  },
  {
   "cell_type": "code",
   "execution_count": 1,
   "metadata": {
    "id": "4fHDGDO95YGC"
   },
   "outputs": [],
   "source": [
    "import numpy as np\n",
    "import pandas as pd\n",
    "import matplotlib.pyplot as plt\n",
    "import seaborn as sns\n",
    "from sklearn.model_selection import train_test_split"
   ]
  },
  {
   "cell_type": "markdown",
   "metadata": {},
   "source": [
    "# Part 1: Data Loading and First Look"
   ]
  },
  {
   "cell_type": "markdown",
   "metadata": {
    "id": "tSrPNPidMY3l"
   },
   "source": [
    "## (Q1) Loading the dataset"
   ]
  },
  {
   "cell_type": "code",
   "execution_count": 2,
   "metadata": {
    "colab": {
     "base_uri": "https://localhost:8080/",
     "height": 73
    },
    "id": "DfYF1LgMLcNe",
    "outputId": "314283a9-3e1e-40f5-b565-61add3101ba3"
   },
   "outputs": [
    {
     "data": {
      "text/plain": [
       "(1250, 25)"
      ]
     },
     "execution_count": 2,
     "metadata": {},
     "output_type": "execute_result"
    }
   ],
   "source": [
    "dataset = pd.read_csv(\"virus_data.csv\")\n",
    "dataset.shape"
   ]
  },
  {
   "cell_type": "markdown",
   "metadata": {},
   "source": [
    "## (Q2)"
   ]
  },
  {
   "cell_type": "code",
   "execution_count": null,
   "metadata": {
    "id": "bVmBUgUWMH0I"
   },
   "outputs": [],
   "source": [
    "dataset['conversations_per_day'].value_counts()"
   ]
  },
  {
   "cell_type": "markdown",
   "metadata": {
    "id": "_Mgm01NpMXJU"
   },
   "source": [
    "## (Q3)"
   ]
  },
  {
   "cell_type": "code",
   "execution_count": null,
   "metadata": {
    "id": "pT3gmNOXjtE9"
   },
   "outputs": [],
   "source": [
    "dataset.dtypes"
   ]
  },
  {
   "cell_type": "markdown",
   "metadata": {},
   "source": [
    "## (Q4)"
   ]
  },
  {
   "cell_type": "code",
   "execution_count": 3,
   "metadata": {
    "id": "fULq3pXduRov"
   },
   "outputs": [
    {
     "data": {
      "text/plain": [
       "((1000, 25), (250, 25))"
      ]
     },
     "execution_count": 3,
     "metadata": {},
     "output_type": "execute_result"
    }
   ],
   "source": [
    "random_state = 17 + 75\n",
    "train, test = train_test_split(dataset, test_size=0.2, random_state=random_state)\n",
    "train.shape, test.shape"
   ]
  },
  {
   "cell_type": "markdown",
   "metadata": {},
   "source": [
    "# Part 2: Missing Values and Outliers"
   ]
  },
  {
   "cell_type": "markdown",
   "metadata": {},
   "source": [
    "## (Q5)"
   ]
  },
  {
   "cell_type": "code",
   "execution_count": null,
   "metadata": {},
   "outputs": [],
   "source": [
    "train.isnull().sum()"
   ]
  },
  {
   "cell_type": "code",
   "execution_count": null,
   "metadata": {},
   "outputs": [],
   "source": [
    "test.isnull().sum()"
   ]
  },
  {
   "cell_type": "markdown",
   "metadata": {},
   "source": [
    "## (Q6)"
   ]
  },
  {
   "cell_type": "code",
   "execution_count": 8,
   "metadata": {},
   "outputs": [],
   "source": [
    "def plot_box(series, title, xlabel):\n",
    "    cleaned_series = series.dropna()\n",
    "    plt.figure(figsize=(8, 6))\n",
    "    plt.boxplot(cleaned_series,\n",
    "    vert=False)\n",
    "    plt.xlabel(xlabel)\n",
    "    plt.title(title)"
   ]
  },
  {
   "cell_type": "code",
   "execution_count": null,
   "metadata": {},
   "outputs": [],
   "source": [
    "plot_box(train['PCR_02'], 'PCR_02 BOX PLOT', 'PCR_02')"
   ]
  },
  {
   "cell_type": "code",
   "execution_count": null,
   "metadata": {},
   "outputs": [],
   "source": [
    "plot_box(train['household_income'], 'household income BOX PLOT', 'Household Income')"
   ]
  },
  {
   "cell_type": "code",
   "execution_count": null,
   "metadata": {},
   "outputs": [],
   "source": [
    "print(train['household_income'].describe())\n",
    "print(train['PCR_02'].describe())"
   ]
  },
  {
   "cell_type": "markdown",
   "metadata": {},
   "source": [
    "## (Q7)"
   ]
  },
  {
   "cell_type": "code",
   "execution_count": null,
   "metadata": {},
   "outputs": [],
   "source": [
    "## fill missing values with median\n",
    "filled_train_median = train.fillna({'household_income':train.household_income.median(), 'PCR_02':train.PCR_02.median()})\n",
    "filled_test_median = test.fillna({'household_income':train.household_income.median(), 'PCR_02':train.PCR_02.median()})\n",
    "\n",
    "print(filled_train_median['household_income'].describe())\n",
    "print(filled_train_median['PCR_02'].describe())"
   ]
  },
  {
   "cell_type": "markdown",
   "metadata": {},
   "source": [
    "# Part 3: Warming up with k-Nearest Neighbors"
   ]
  },
  {
   "cell_type": "markdown",
   "metadata": {},
   "source": [
    "# Basic data exploration"
   ]
  },
  {
   "cell_type": "markdown",
   "metadata": {},
   "source": [
    "## (Q8)"
   ]
  },
  {
   "cell_type": "code",
   "execution_count": null,
   "metadata": {},
   "outputs": [],
   "source": [
    "g=sns.pairplot(filled_train_median,\n",
    "               vars=['PCR_01' , 'PCR_02' , 'PCR_08', 'PCR_10'],\n",
    "               hue=\"spread\",\n",
    "               plot_kws={\"s\": 12})\n",
    "g.fig.suptitle(\"PCR features pairplot\", y=1.04)\n",
    "for ax in np.ravel(g.axes):\n",
    "    ax.grid(alpha=0.5)\n",
    "\n",
    "g.fig.set_size_inches(12,8)"
   ]
  },
  {
   "cell_type": "code",
   "execution_count": null,
   "metadata": {},
   "outputs": [],
   "source": [
    "g=sns.pairplot(filled_train_median,\n",
    "               x_vars=['PCR_01'],\n",
    "               y_vars=['PCR_08'],\n",
    "               hue=\"spread\",\n",
    "               plot_kws={\"s\": 12})\n",
    "g.fig.suptitle(\"PCR_01 PCR_08 pairplot\", y=1.04)\n",
    "for ax in np.ravel(g.axes):\n",
    "    ax.grid(alpha=0.5)\n",
    "\n",
    "g.fig.set_size_inches(12,8)"
   ]
  },
  {
   "cell_type": "markdown",
   "metadata": {},
   "source": [
    "## (Q9)"
   ]
  },
  {
   "cell_type": "code",
   "execution_count": null,
   "metadata": {},
   "outputs": [],
   "source": [
    "print(\"Correlation between PCR_01 and spread is: {:.4f}\".format(filled_train_median['PCR_01'].corr(filled_train_median['spread'])))\n",
    "print(\"Correlation between PCR_08 and spread is: {:.4f}\".format(filled_train_median['PCR_08'].corr(filled_train_median['spread'])))"
   ]
  },
  {
   "cell_type": "markdown",
   "metadata": {},
   "source": [
    "# k-NN implementation"
   ]
  },
  {
   "cell_type": "markdown",
   "metadata": {},
   "source": [
    "## Task D"
   ]
  },
  {
   "cell_type": "code",
   "execution_count": null,
   "metadata": {},
   "outputs": [],
   "source": [
    "import visualize_clf\n",
    "import kNN\n",
    "\n",
    "# temporal data frames for PCR_01 and PCR_08\n",
    "temp_df = filled_train_median[['PCR_01','PCR_08']]\n",
    "temp_test_df = filled_test_median[['PCR_01','PCR_08']]\n",
    "\n",
    "# kNN model\n",
    "model = kNN.kNN(n_neighbors=1)\n",
    "model.fit(temp_df,filled_train_median['spread'])\n",
    "visualize_clf.visualize_clf(model, temp_df, filled_train_median['spread'], \"Decision Regions\", \"PCR_01\", \"PCR_08\")\n",
    "\n",
    "# train and test accuracy\n",
    "print(\"Train accuracy is: {:.3f}\".format(model.score(temp_df, filled_train_median['spread'])))\n",
    "print(\"Test accuracy is: {:.3f}\".format(model.score(temp_test_df, filled_test_median['spread'])))"
   ]
  },
  {
   "cell_type": "markdown",
   "metadata": {},
   "source": [
    "# Data Normalization"
   ]
  },
  {
   "cell_type": "markdown",
   "metadata": {},
   "source": [
    "## (Q12)"
   ]
  },
  {
   "cell_type": "code",
   "execution_count": null,
   "metadata": {},
   "outputs": [],
   "source": [
    "from sklearn.preprocessing import MinMaxScaler\n",
    "\n",
    "# normalize the data\n",
    "scaler = MinMaxScaler(feature_range=(-1,1))\n",
    "scaler.fit(temp_df)\n",
    "normed_temp_df = scaler.transform(temp_df)\n",
    "normed_temp_test_df = scaler.transform(temp_test_df)\n",
    "\n",
    "# kNN model k=1\n",
    "model = kNN.kNN(n_neighbors=1)\n",
    "model.fit(normed_temp_df, filled_train_median['spread'])\n",
    "visualize_clf.visualize_clf(model, normed_temp_df, filled_train_median['spread'], \"Decision Regions\", \"PCR_01\", \"PCR_08\")\n",
    "\n",
    "# train and test accuracy\n",
    "print(\"Train accuracy is: {:.3f}\".format(model.score(normed_temp_df, filled_train_median['spread'])))\n",
    "print(\"Test accuracy is: {:.3f}\".format(model.score(normed_temp_test_df, filled_test_median['spread'])))\n"
   ]
  },
  {
   "cell_type": "markdown",
   "metadata": {},
   "source": [
    "## (Q13)"
   ]
  },
  {
   "cell_type": "code",
   "execution_count": null,
   "metadata": {},
   "outputs": [],
   "source": [
    "# kNN model k=9\n",
    "model = kNN.kNN(n_neighbors=9)\n",
    "model.fit(normed_temp_df, filled_train_median['spread'])\n",
    "visualize_clf.visualize_clf(model, normed_temp_df, filled_train_median['spread'], \"Decision Regions\", \"PCR_01\", \"PCR_08\")\n",
    "# train and test accuracy\n",
    "print(\"Train accuracy is: {:.3f}\".format(model.score(normed_temp_df, filled_train_median['spread'])))\n",
    "print(\"Test accuracy is: {:.3f}\".format(model.score(normed_temp_test_df, filled_test_median['spread'])))"
   ]
  },
  {
   "cell_type": "markdown",
   "metadata": {},
   "source": [
    "# Part 4: Data Exploration"
   ]
  },
  {
   "cell_type": "markdown",
   "metadata": {},
   "source": [
    "# Task D"
   ]
  },
  {
   "cell_type": "code",
   "execution_count": 19,
   "metadata": {},
   "outputs": [],
   "source": [
    "# define special property feature\n",
    "df_bool= pd.DataFrame({'SpecialProperty' : filled_train_median[\"blood_type\"].isin([\"O+\", \"B+\"])})\n",
    "filled_train_median_bool = pd.concat([filled_train_median, df_bool], axis=1)\n",
    "filled_train_median_bool.drop(columns=['blood_type'], inplace=True)"
   ]
  },
  {
   "cell_type": "markdown",
   "metadata": {},
   "source": [
    "# Univariate Analysis"
   ]
  },
  {
   "cell_type": "code",
   "execution_count": null,
   "metadata": {},
   "outputs": [],
   "source": [
    "COL_NAME = ['PCR_01', 'PCR_02', 'PCR_03', 'PCR_04', 'PCR_05', 'PCR_06', 'PCR_07', 'PCR_08', 'PCR_09', 'PCR_10', 'weight', 'household_income']\n",
    "COLS, ROWS = (2, len(COL_NAME))\n",
    "plt.figure(figsize=(5 * COLS, 4 * ROWS))\n",
    "for row in range(ROWS):\n",
    "    column = COL_NAME[row]\n",
    "    for j, cls in enumerate([\"risk\", \"spread\"]):\n",
    "        plt.subplot(ROWS,COLS, row * COLS + 1 + j)\n",
    "        isContinuous = \"float\" in filled_train_median_bool[column].dtype.name\n",
    "        sns.histplot(data=filled_train_median_bool, x=column, hue=cls, line_kws={\"linewidth\": 3},\n",
    "        kde=isContinuous, multiple=\"layer\" if isContinuous else \"dodge\")\n",
    "        plt.grid(alpha=0.5)\n",
    "plt.tight_layout()"
   ]
  },
  {
   "cell_type": "markdown",
   "metadata": {},
   "source": [
    "# (Q15)"
   ]
  },
  {
   "cell_type": "code",
   "execution_count": null,
   "metadata": {},
   "outputs": [],
   "source": [
    "plt.figure()\n",
    "sns.histplot(data=filled_train_median_bool, x=\"weight\", hue=\"spread\", line_kws={\"linewidth\": 3},\n",
    "kde=True, multiple=\"layer\")\n",
    "plt.grid(alpha=0.5)\n",
    "plt.tight_layout()"
   ]
  },
  {
   "cell_type": "markdown",
   "metadata": {},
   "source": [
    "# (Q16)"
   ]
  },
  {
   "cell_type": "code",
   "execution_count": null,
   "metadata": {},
   "outputs": [],
   "source": [
    "plt.figure()\n",
    "sns.histplot(data=filled_train_median_bool, x=\"PCR_04\", hue=\"risk\", line_kws={\"linewidth\": 3},\n",
    "kde=True, multiple=\"layer\")\n",
    "plt.grid(alpha=0.5)\n",
    "plt.tight_layout()"
   ]
  },
  {
   "cell_type": "markdown",
   "metadata": {},
   "source": [
    "# Bivariate Analysis"
   ]
  },
  {
   "cell_type": "markdown",
   "metadata": {},
   "source": [
    "# (Q17)"
   ]
  },
  {
   "cell_type": "code",
   "execution_count": 23,
   "metadata": {},
   "outputs": [],
   "source": [
    "# split the data by the special property feature\n",
    "filled_train_median_true = filled_train_median_bool.groupby('SpecialProperty').get_group(True)\n",
    "filled_train_median_false = filled_train_median_bool.groupby('SpecialProperty').get_group(False)"
   ]
  },
  {
   "cell_type": "code",
   "execution_count": null,
   "metadata": {},
   "outputs": [],
   "source": [
    "g=sns.pairplot(filled_train_median_true,\n",
    "               vars=['PCR_04' , 'PCR_05' , 'PCR_06'],\n",
    "               hue=\"risk\",\n",
    "               plot_kws={\"s\": 12})\n",
    "g.fig.suptitle(\"PCR features pairplot for blood_type in {O+, B+}\", y=1.04)\n",
    "for ax in np.ravel(g.axes):\n",
    "    ax.grid(alpha=0.5)\n",
    "\n",
    "g.fig.set_size_inches(12,8)"
   ]
  },
  {
   "cell_type": "code",
   "execution_count": null,
   "metadata": {},
   "outputs": [],
   "source": [
    "g=sns.pairplot(filled_train_median_false,\n",
    "               vars=['PCR_04' , 'PCR_05' , 'PCR_06'],\n",
    "               hue=\"risk\",\n",
    "               plot_kws={\"s\": 12})\n",
    "g.fig.suptitle(\"PCR features pairplot for blood_type not in {O+, B+}\", y=1.04)\n",
    "for ax in np.ravel(g.axes):\n",
    "    ax.grid(alpha=0.5)\n",
    "\n",
    "g.fig.set_size_inches(12,8)"
   ]
  },
  {
   "cell_type": "markdown",
   "metadata": {},
   "source": [
    "# (Q18)"
   ]
  },
  {
   "cell_type": "code",
   "execution_count": null,
   "metadata": {},
   "outputs": [],
   "source": [
    "g = sns.jointplot(data=filled_train_median_true, x=\"PCR_04\", y=\"PCR_06\", hue=\"risk\")\n",
    "g.fig.suptitle(\"PCR_04 vs. PCR_06 for blood_type in {O+, B+}\", y=1.04)\n",
    "_ = g.ax_joint.grid(alpha=0.5)"
   ]
  },
  {
   "cell_type": "code",
   "execution_count": null,
   "metadata": {},
   "outputs": [],
   "source": [
    "g = sns.jointplot(data=filled_train_median_false, x=\"PCR_04\", y=\"PCR_06\", hue=\"risk\")\n",
    "g.fig.suptitle(\"PCR_04 vs. PCR_06 for blood_type not in {O+, B+}\", y=1.04)\n",
    "_ = g.ax_joint.grid(alpha=0.5)"
   ]
  },
  {
   "cell_type": "code",
   "execution_count": null,
   "metadata": {},
   "outputs": [],
   "source": [
    "g = sns.jointplot(data=filled_train_median_bool, x=\"PCR_04\", y=\"PCR_06\", hue=\"risk\")\n",
    "g.fig.suptitle(\"PCR_04 vs. PCR_06 for all blood_type\", y=1.04)\n",
    "_ = g.ax_joint.grid(alpha=0.5)"
   ]
  },
  {
   "cell_type": "markdown",
   "metadata": {},
   "source": [
    "# The risk target feature"
   ]
  },
  {
   "cell_type": "markdown",
   "metadata": {},
   "source": [
    "# (Q19)"
   ]
  },
  {
   "cell_type": "code",
   "execution_count": 29,
   "metadata": {},
   "outputs": [],
   "source": [
    "def plot3d(df, colX, colY, colZ, title, hue=None, s=1):\n",
    "  # %matplotlib inline\n",
    "\n",
    "  fig = plt.figure(figsize=(20, 4))\n",
    "  axes = [fig.add_subplot(1, 4, 1, projection='3d'),\n",
    "          fig.add_subplot(1, 4, 2, projection='3d'),\n",
    "          fig.add_subplot(1, 4, 3, projection='3d'),\n",
    "          fig.add_subplot(1, 4, 4, projection='3d')]\n",
    "\n",
    "  palette = sns.color_palette(\"hls\", 2)\n",
    "\n",
    "  for i,ax in enumerate(axes):\n",
    "    if hue is None:\n",
    "      ax.scatter3D(df[colX], df[colY], df[colZ], color=palette[0], s=s)\n",
    "    else:\n",
    "      idx = df[hue] == True\n",
    "      df1 = df[idx]\n",
    "      df2 = df[~idx]\n",
    "\n",
    "      ax.scatter3D(df1[colX], df1[colY], df1[colZ], color=palette[0], s=s)\n",
    "      ax.scatter3D(df2[colX], df2[colY], df2[colZ], color=palette[1], s=s)\n",
    "\n",
    "    if i == 3 or i == 1:\n",
    "      ax.set_xlabel(colX, labelpad=20)\n",
    "      ax.set_ylabel(colY, labelpad=20)\n",
    "    else:\n",
    "      ax.xaxis.set_ticklabels([])\n",
    "      ax.yaxis.set_ticklabels([])\n",
    "\n",
    "    ax.view_init(elev=5., azim=45*i+15)\n",
    "\n",
    "  axes[1].set_zlabel(\"\\n\" + colZ, labelpad=1)\n",
    "\n",
    "  plt.suptitle(title)\n",
    "  plt.subplots_adjust(wspace=0.1, top=0.99)\n",
    "  plt.show()"
   ]
  },
  {
   "cell_type": "code",
   "execution_count": null,
   "metadata": {},
   "outputs": [],
   "source": [
    "plot3d(filled_train_median_bool, \"PCR_04\", \"SpecialProperty\", \"PCR_06\", title=\"PCR_04, PCR_06, SpecialProperty colored by risk value\", hue=\"risk\", s=5)"
   ]
  },
  {
   "cell_type": "markdown",
   "metadata": {},
   "source": [
    "## Part 5: More Data Normalization"
   ]
  },
  {
   "cell_type": "code",
   "execution_count": 31,
   "metadata": {},
   "outputs": [],
   "source": [
    "from sklearn.preprocessing import StandardScaler\n",
    "\n",
    "# scaler for minmax and standart\n",
    "scaler_standart = StandardScaler()\n",
    "scaler_minmax = MinMaxScaler(feature_range=(-1,1))\n",
    "\n",
    "# temporal data frames for minmax and standart\n",
    "temp_df_minmax = filled_train_median_bool[['PCR_01','PCR_03','PCR_04','PCR_06','PCR_08']]\n",
    "temp_df_standart = filled_train_median_bool[['PCR_02','PCR_05','PCR_07','PCR_09','PCR_10']]\n",
    "normed_filled_train_median_bool = filled_train_median_bool.copy()\n",
    "\n",
    "# normalize the data\n",
    "scaler_minmax.fit(temp_df_minmax)\n",
    "scaler_standart.fit(temp_df_standart)\n",
    "normed_filled_train_median_bool[['PCR_01','PCR_03','PCR_04','PCR_06','PCR_08']] = scaler_minmax.transform(temp_df_minmax)\n",
    "normed_filled_train_median_bool[['PCR_02','PCR_05','PCR_07','PCR_09','PCR_10']] = scaler_standart.transform(temp_df_standart)"
   ]
  },
  {
   "cell_type": "markdown",
   "metadata": {},
   "source": [
    "## Part 6: Data Preparation Pipeline"
   ]
  },
  {
   "cell_type": "code",
   "execution_count": 7,
   "metadata": {},
   "outputs": [
    {
     "name": "stdout",
     "output_type": "stream",
     "text": [
      "(1000, 25)\n",
      "(1000, 25)\n",
      "(1000, 26)\n",
      "(1000, 25)\n",
      "(250, 25)\n",
      "(250, 25)\n",
      "(250, 26)\n",
      "(250, 25)\n"
     ]
    }
   ],
   "source": [
    "from prepare import prepare_data\n",
    "\n",
    "# Prepare training set according to itself\n",
    "train_df_prepared = prepare_data(train, train)\n",
    "# Prepare test set according to the raw training set\n",
    "test_df_prepared = prepare_data(train, test)\n",
    "\n",
    "# test_df_prepared.to_csv(\"test_df_prepared.csv\", index=False)"
   ]
  }
 ],
 "metadata": {
  "colab": {
   "provenance": []
  },
  "kernelspec": {
   "display_name": "LilachBase",
   "language": "python",
   "name": "python3"
  },
  "language_info": {
   "codemirror_mode": {
    "name": "ipython",
    "version": 3
   },
   "file_extension": ".py",
   "mimetype": "text/x-python",
   "name": "python",
   "nbconvert_exporter": "python",
   "pygments_lexer": "ipython3",
   "version": "3.9.18"
  }
 },
 "nbformat": 4,
 "nbformat_minor": 0
}
