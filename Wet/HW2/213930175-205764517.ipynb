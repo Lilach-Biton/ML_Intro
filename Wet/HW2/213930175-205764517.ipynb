{
 "cells": [
  {
   "cell_type": "markdown",
   "metadata": {
    "id": "AaWOEIUIMac-"
   },
   "source": [
    "# HW2: Algorithm Implementation and Basic Model Selection"
   ]
  },
  {
   "cell_type": "code",
   "execution_count": 2,
   "metadata": {
    "id": "4fHDGDO95YGC"
   },
   "outputs": [],
   "source": [
    "import numpy as np\n",
    "import pandas as pd\n",
    "import matplotlib.pyplot as plt\n",
    "import seaborn as sns\n",
    "from sklearn.model_selection import train_test_split"
   ]
  },
  {
   "cell_type": "markdown",
   "metadata": {},
   "source": [
    "# Data Loading"
   ]
  },
  {
   "cell_type": "code",
   "execution_count": null,
   "metadata": {
    "colab": {
     "base_uri": "https://localhost:8080/",
     "height": 73
    },
    "id": "DfYF1LgMLcNe",
    "outputId": "314283a9-3e1e-40f5-b565-61add3101ba3"
   },
   "outputs": [],
   "source": [
    "dataset = pd.read_csv(\"virus_data.csv\")\n",
    "random_state = 17 + 75\n",
    "train, test = train_test_split(dataset, test_size=0.2, random_state=random_state)\n",
    "\n",
    "preprocessed_train = pd.read_csv(\"train_df_prepared.csv\")\n",
    "preprocessed_test = pd.read_csv(\"test_df_prepared.csv\")\n",
    "\n",
    "preprocessed_train = pd.concat([preprocessed_train.reset_index(drop=True), \n",
    "                    train['blood_type'].reset_index(drop=True)], axis=1)\n",
    "\n",
    "preprocessed_test = pd.concat([preprocessed_test.reset_index(drop=True), \n",
    "                    test['blood_type'].reset_index(drop=True)], axis=1)\n",
    "\n",
    "preprocessed_test\n"
   ]
  },
  {
   "cell_type": "markdown",
   "metadata": {},
   "source": [
    "# Part 1: Basic model selection with k-Nearest Neighbors"
   ]
  },
  {
   "cell_type": "code",
   "execution_count": 4,
   "metadata": {},
   "outputs": [],
   "source": [
    "def visualize_clf(clf, X, Y, title, \n",
    "                  xlabel, ylabel,\n",
    "                  marker_size=50,\n",
    "                  grid_length=300,\n",
    "                  linewidths=None):\n",
    "    import matplotlib.pyplot as plt\n",
    "    import pandas as pd\n",
    "    from matplotlib.colors import ListedColormap\n",
    "    \n",
    "    if isinstance(X, pd.DataFrame):\n",
    "        X = X.to_numpy()\n",
    "        \n",
    "    # For internal use here, make sure labels are 0 and 1\n",
    "    Y = np.ravel(Y).astype(int)\n",
    "    labels = set(Y)\n",
    "    assert len(labels) == 2, \"Can only visualize two unique labels\"\n",
    "\n",
    "    if labels == set([-1,1]):\n",
    "      Y = (Y + 1) // 2\n",
    "      labels = set(Y)\n",
    "    \n",
    "    assert labels == set([0,1]), \"Could not handle given labels\"\n",
    "\n",
    "    plt.figure(figsize=(8, 8))\n",
    "\n",
    "    # Parameters\n",
    "    n_classes = 2\n",
    "    markers = [\"D\", \"o\"]\n",
    "    palette = sns.color_palette(\"hls\", 2)\n",
    "    custom_cmap = ListedColormap(palette.as_hex())\n",
    "\n",
    "    x_delta = np.abs(X[:, 0].max() - X[:, 0].min()) * 0.1\n",
    "    y_delta = np.abs(X[:, 1].max() - X[:, 1].min()) * 0.1\n",
    "    x_min, x_max = X[:, 0].min() - x_delta, X[:, 0].max() + x_delta\n",
    "    y_min, y_max = X[:, 1].min() - y_delta, X[:, 1].max() + y_delta\n",
    "    xx, yy = np.meshgrid(np.linspace(x_min, x_max, grid_length),\n",
    "                         np.linspace(y_min, y_max, grid_length))\n",
    "    plt.tight_layout(h_pad=0.5, w_pad=0.5, pad=2.5)\n",
    "\n",
    "    Z = clf.predict(np.c_[xx.ravel(), yy.ravel()])\n",
    "    Z = Z.reshape(xx.shape)\n",
    "\n",
    "    cs = plt.contourf(xx, yy, Z, cmap=custom_cmap, alpha=0.35)\n",
    "\n",
    "    plt.xlabel(xlabel)\n",
    "    plt.ylabel(ylabel)\n",
    "    plt.grid(alpha=0.75)\n",
    "\n",
    "    # Plot the training points\n",
    "    for i, color, marker in zip(labels, palette, markers):\n",
    "        idx = np.where(Y == i)\n",
    "        plt.scatter(X[idx, 0], X[idx, 1], color=color,\n",
    "                    marker=marker,\n",
    "                    edgecolor='white', s=marker_size,\n",
    "                    linewidths=linewidths)\n",
    "\n",
    "    plt.title(title, fontsize=20)\n",
    "    plt.axis(\"tight\")\n",
    "    plt.show()\n",
    "   "
   ]
  },
  {
   "cell_type": "markdown",
   "metadata": {},
   "source": [
    "## (Q1) - Visualization and basic analysis"
   ]
  },
  {
   "cell_type": "code",
   "execution_count": null,
   "metadata": {},
   "outputs": [],
   "source": [
    "from sklearn.neighbors import KNeighborsClassifier\n",
    "\n",
    "spread_pred_train = preprocessed_train[['PCR_01','PCR_08']]\n",
    "spread_pred_label_train = preprocessed_train['spread']\n",
    "spread_pred_test = preprocessed_test[['PCR_01','PCR_08']]\n",
    "spread_pred_label_test = preprocessed_test['spread']\n",
    "\n",
    "knn = KNeighborsClassifier(n_neighbors=1)\n",
    "\n",
    "knn.fit(spread_pred_train, spread_pred_label_train)\n",
    "\n",
    "visualize_clf(knn, spread_pred_train, spread_pred_label_train, \"Decision Regions - Train accuracy is: {:.3f}\".format(knn.score(spread_pred_train, spread_pred_label_train)), \"PCR_01\", \"PCR_08\")\n",
    "visualize_clf(knn, spread_pred_test, spread_pred_label_test, \"Decision Regions - Test accuracy is: {:.3f}\".format(knn.score(spread_pred_test, spread_pred_label_test)), \"PCR_01\", \"PCR_08\")"
   ]
  },
  {
   "cell_type": "markdown",
   "metadata": {},
   "source": [
    "## (Q2)"
   ]
  },
  {
   "cell_type": "code",
   "execution_count": 6,
   "metadata": {},
   "outputs": [],
   "source": [
    "from sklearn.model_selection import cross_validate\n",
    "\n",
    "k_list = list(range(1, 20, 2)) + list(range(20, 695, 65))\n",
    "train_scores = []\n",
    "validation_scores = []\n",
    "\n",
    "for k in k_list:\n",
    "    knn = KNeighborsClassifier(n_neighbors=k)\n",
    "    scores = cross_validate(knn, spread_pred_train, spread_pred_label_train, cv=8, scoring='accuracy', return_train_score=True)\n",
    "\n",
    "    train_scores.append(scores['train_score'].mean())\n",
    "    validation_scores.append(scores['test_score'].mean())\n"
   ]
  },
  {
   "cell_type": "code",
   "execution_count": null,
   "metadata": {},
   "outputs": [],
   "source": [
    "plt.figure(figsize=(10, 6))\n",
    "plt.semilogx(k_list, train_scores, label='Train')\n",
    "plt.semilogx(k_list, validation_scores, label='Validation')\n",
    "plt.xlabel('k')\n",
    "plt.ylabel('Accuracy')\n",
    "plt.title('KNN: Accuracy vs k')\n",
    "plt.legend()\n",
    "plt.show()\n",
    "\n",
    "k_max_ind = np.argmax(validation_scores)\n",
    "k_max = k_list[k_max_ind]\n",
    "print(\"Best k value is: \", k_max)\n",
    "print(\"Mean train accuracy: \", train_scores[k_max_ind])\n",
    "print(\"Mean validation accuracy: \", validation_scores[k_max_ind])"
   ]
  },
  {
   "cell_type": "markdown",
   "metadata": {},
   "source": [
    "## (Q3)"
   ]
  },
  {
   "cell_type": "code",
   "execution_count": null,
   "metadata": {},
   "outputs": [],
   "source": [
    "knn = KNeighborsClassifier(n_neighbors=k_max)\n",
    "\n",
    "knn.fit(spread_pred_train, spread_pred_label_train)\n",
    "\n",
    "visualize_clf(knn, spread_pred_train, spread_pred_label_train, \"Decision Regions - Train accuracy is: {:.3f}\".format(knn.score(spread_pred_train, spread_pred_label_train)), \"PCR_01\", \"PCR_08\")\n",
    "visualize_clf(knn, spread_pred_test, spread_pred_label_test, \"Decision Regions - Test accuracy is: {:.3f}\".format(knn.score(spread_pred_test, spread_pred_label_test)), \"PCR_01\", \"PCR_08\")"
   ]
  },
  {
   "cell_type": "markdown",
   "metadata": {},
   "source": [
    "# Part 2: Decision trees"
   ]
  },
  {
   "cell_type": "markdown",
   "metadata": {},
   "source": [
    "## (Q5)"
   ]
  },
  {
   "cell_type": "code",
   "execution_count": 9,
   "metadata": {},
   "outputs": [],
   "source": [
    "id3_train = preprocessed_train[['PCR_04','PCR_06','SpecialProperty']]\n",
    "id3_train_label = preprocessed_train[['risk']]\n",
    "id3_test = preprocessed_test[['PCR_04','PCR_06','SpecialProperty']]\n",
    "id3_test_label = preprocessed_test[['risk']]"
   ]
  },
  {
   "cell_type": "code",
   "execution_count": null,
   "metadata": {},
   "outputs": [],
   "source": [
    "from sklearn.tree import DecisionTreeClassifier, plot_tree\n",
    "\n",
    "id3 = DecisionTreeClassifier(criterion='entropy', max_depth=3)\n",
    "id3 = id3.fit(id3_train, id3_train_label)\n",
    "print(\"Train accuracy is: {:.3f}\".format(id3.score(id3_train, id3_train_label)))\n",
    "plt.figure(figsize=(15, 10))\n",
    "plot_tree(id3, feature_names=['PCR_04', 'PCR_06', 'SpecialProperty'], class_names=['risk', 'no risk'], filled=True, fontsize=10)"
   ]
  },
  {
   "cell_type": "markdown",
   "metadata": {},
   "source": [
    "# (Q6)"
   ]
  },
  {
   "cell_type": "code",
   "execution_count": null,
   "metadata": {},
   "outputs": [],
   "source": [
    "from sklearn.model_selection import GridSearchCV\n",
    "\n",
    "\n",
    "max_depth_range = range(5, 25)\n",
    "min_samples_range = range(1, 20)\n",
    "param_grid = {'max_depth': max_depth_range, 'min_samples_leaf': min_samples_range}\n",
    "\n",
    "grid_search = GridSearchCV(DecisionTreeClassifier(criterion='entropy'), param_grid, cv=5, scoring='accuracy', return_train_score=True, error_score='raise')\n",
    "grid_search.fit(id3_train, id3_train_label)\n"
   ]
  },
  {
   "cell_type": "code",
   "execution_count": 12,
   "metadata": {},
   "outputs": [],
   "source": [
    "validation_acc_df = pd.DataFrame(grid_search.cv_results_['mean_test_score'].reshape(len(max_depth_range), len(min_samples_range)), index=max_depth_range, columns=min_samples_range)\n",
    "train_acc_df = pd.DataFrame(grid_search.cv_results_['mean_train_score'].reshape(len(max_depth_range), len(min_samples_range)), index=max_depth_range, columns=min_samples_range)"
   ]
  },
  {
   "cell_type": "code",
   "execution_count": null,
   "metadata": {},
   "outputs": [],
   "source": [
    "plt.figure(figsize=(10, 6))\n",
    "h = sns.heatmap(train_acc_df, cmap='viridis', annot=True, fmt=\".2f\")\n",
    "plt.title('Mean Training Accuracy')\n",
    "plt.xlabel('min_samples_leaf')\n",
    "plt.ylabel('max_depth')\n",
    "plt.show()\n",
    "plt.figure(figsize=(10, 6))\n",
    "h = sns.heatmap(validation_acc_df, cmap='viridis', annot=True, fmt=\".2f\")\n",
    "plt.title('Mean Validation Accuracy')\n",
    "plt.xlabel('min_samples_leaf')\n",
    "plt.ylabel('max_depth')\n",
    "plt.show()\n",
    "\n",
    "\n",
    "grid_search.cv_results_['mean_test_score'].shape"
   ]
  },
  {
   "cell_type": "markdown",
   "metadata": {},
   "source": [
    "## (Q8)"
   ]
  },
  {
   "cell_type": "code",
   "execution_count": null,
   "metadata": {},
   "outputs": [],
   "source": [
    "id3 = DecisionTreeClassifier(criterion='entropy', max_depth=8, min_samples_leaf=12)\n",
    "id3 = id3.fit(id3_train, id3_train_label)\n",
    "print(\"Train accuracy is: {:.3f}\".format(id3.score(id3_train, id3_train_label)))\n",
    "print(\"Test accuracy is: {:.3f}\".format(id3.score(id3_test, id3_test_label)))\n"
   ]
  },
  {
   "cell_type": "markdown",
   "metadata": {},
   "source": [
    "# Part 3: Linear SVM and the Polynomial kernel"
   ]
  },
  {
   "cell_type": "code",
   "execution_count": null,
   "metadata": {},
   "outputs": [],
   "source": [
    "from SoftSVM import SoftSVM\n",
    "\n",
    "def numerical_subgradient(w, b, C, X, y, delta=1e-4):\n",
    "    w_ = w.copy()\n",
    "    g_w = np.zeros_like(w_)\n",
    "    orig_objective = SoftSVM.loss(w_, b, C, X, y)\n",
    "    for i in range(g_w.shape[0]):\n",
    "        w_[i] += delta\n",
    "        perturbed_objective = SoftSVM.loss(w_, b, C, X, y)\n",
    "        w_[i] -= delta\n",
    "        g_w[i] = (perturbed_objective - orig_objective) / delta\n",
    "\n",
    "    g_b = (SoftSVM.loss(w_, b + delta, C, X, y) - orig_objective) / delta\n",
    "    return g_w, g_b\n",
    "\n",
    "\n",
    "\n",
    "def compare_gradients(X, y, deltas, C=1, REPEATS=100, figsize=(10, 6)):\n",
    "    residual_means = []\n",
    "\n",
    "    for delta in deltas:\n",
    "        residuals = []\n",
    "\n",
    "        for _ in range(REPEATS):\n",
    "            # Randomize vectors in which the gradient is computed\n",
    "            w = np.random.randn(X.shape[1])\n",
    "            b = np.random.randn(1)\n",
    "\n",
    "            # Compute the two types of gradients\n",
    "            analytic_grad = SoftSVM.subgradient(w, b, C, X, y)[0]\n",
    "            numeric_grad = numerical_subgradient(w, b, C, X, y, delta=delta)[0]\n",
    "\n",
    "            residual = np.linalg.norm(numeric_grad - analytic_grad)\n",
    "            residuals.append(residual)\n",
    "\n",
    "        residual_means.append(np.mean(residuals))\n",
    "\n",
    "    plt.figure(figsize=figsize)\n",
    "    plt.title('Residuals of analytical and numerical gradients', fontsize=22)\n",
    "    plt.plot(deltas, residual_means, linewidth=3)      \n",
    "    plt.yscale('log')\n",
    "    plt.xscale('log')\n",
    "    plt.xlabel('$\\delta$', fontsize=18)\n",
    "    plt.ylabel(r'$\\left\\Vert \\nabla_{w}p_{C}\\left(w,b\\right) - u_{\\delta} \\left(w,b\\right)\\right\\Vert$', fontsize=18)\n",
    "\n",
    "    plt.grid(alpha=0.5)\n",
    "    plt.show()\n"
   ]
  },
  {
   "cell_type": "markdown",
   "metadata": {},
   "source": [
    "## (Q9)"
   ]
  },
  {
   "cell_type": "code",
   "execution_count": null,
   "metadata": {},
   "outputs": [],
   "source": [
    "compare_gradients(np.array(spread_pred_train), np.array(spread_pred_label_train), deltas=np.logspace(-5, 0, 10))"
   ]
  },
  {
   "cell_type": "markdown",
   "metadata": {},
   "source": [
    "## (Q11)"
   ]
  },
  {
   "cell_type": "code",
   "execution_count": null,
   "metadata": {},
   "outputs": [],
   "source": [
    "from sklearn.preprocessing import PolynomialFeatures, MinMaxScaler\n",
    "\n",
    "C=1e5\n",
    "lr_vec = np.logspace(-11, -3, 5)\n",
    "for lr in lr_vec:\n",
    "    clf = SoftSVM(C=C, lr=lr)\n",
    "    X_train_poly = PolynomialFeatures(degree=3,).fit_transform(spread_pred_train)\n",
    "    X_train_poly = MinMaxScaler(feature_range=(-1,1)).fit_transform(X_train_poly)\n",
    "    losses, accuracies = clf.fit_with_logs(np.array(X_train_poly), np.array(spread_pred_label_train), max_iter=5000)\n",
    "    plt.figure(figsize=(13, 6))\n",
    "    plt.subplot(121), plt.grid(alpha=0.5), plt.title (\"Training Loss - lr: {:.2e}\".format(lr))\n",
    "    plt.semilogy(losses), plt.xlabel(\"Step\"), plt.ylabel(\"Loss\")\n",
    "    plt.subplot(122), plt.grid(alpha=0.5), plt.title (\"Training Accuracy - lr: {:.2e}\".format(lr))\n",
    "    plt.plot(accuracies), plt.xlabel(\"Step\"), plt.ylabel(\"Accuracy\")\n",
    "    plt.tight_layout()\n",
    "    plt.show()"
   ]
  },
  {
   "cell_type": "markdown",
   "metadata": {},
   "source": [
    "## (Q12)"
   ]
  },
  {
   "cell_type": "code",
   "execution_count": null,
   "metadata": {},
   "outputs": [],
   "source": [
    "from sklearn.pipeline import Pipeline\n",
    "\n",
    "svm_clf = Pipeline([('feature_mapping', PolynomialFeatures(degree=3,)),\n",
    "                    ('scaler', MinMaxScaler(feature_range=(-1,1))),\n",
    "                    ('SVM', SoftSVM(C= 1e5 , lr=1e-7))])\n",
    "svm_clf.fit(np.array(spread_pred_train), np.array(spread_pred_label_train))"
   ]
  },
  {
   "cell_type": "code",
   "execution_count": null,
   "metadata": {},
   "outputs": [],
   "source": [
    "visualize_clf(svm_clf, spread_pred_train, spread_pred_label_train, \"Decision Regions - Train accuracy is: {:.3f}\".format(svm_clf.score(spread_pred_train, spread_pred_label_train)), \"PCR_01\", \"PCR_08\")\n",
    "visualize_clf(svm_clf, spread_pred_test, spread_pred_label_test, \"Decision Regions - Test accuracy is: {:.3f}\".format(svm_clf.score(spread_pred_test, spread_pred_label_test)), \"PCR_01\", \"PCR_08\")"
   ]
  },
  {
   "cell_type": "markdown",
   "metadata": {},
   "source": [
    "## (Q14)"
   ]
  },
  {
   "cell_type": "code",
   "execution_count": null,
   "metadata": {},
   "outputs": [],
   "source": [
    "from sklearn.svm import SVC\n",
    "from sklearn.pipeline import make_pipeline\n",
    "\n",
    "svc_clf = make_pipeline(MinMaxScaler(feature_range=(-1,1)), SVC(gamma=1e-7))\n",
    "svc_clf.fit(spread_pred_train, spread_pred_label_train)\n",
    "\n",
    "visualize_clf(svc_clf, spread_pred_train, spread_pred_label_train, \"Decision Regions - Train accuracy is: {:.3f}\".format(svc_clf.score(spread_pred_train, spread_pred_label_train)), \"PCR_01\", \"PCR_08\")\n",
    "visualize_clf(svc_clf, spread_pred_test, spread_pred_label_test, \"Decision Regions - Test accuracy is: {:.3f}\".format(svc_clf.score(spread_pred_test, spread_pred_label_test)), \"PCR_01\", \"PCR_08\")"
   ]
  },
  {
   "cell_type": "markdown",
   "metadata": {},
   "source": [
    "## Q15"
   ]
  },
  {
   "cell_type": "code",
   "execution_count": null,
   "metadata": {},
   "outputs": [],
   "source": [
    "svc_clf = make_pipeline(MinMaxScaler(feature_range=(-1,1)), SVC(gamma=200))\n",
    "svc_clf.fit(spread_pred_train, spread_pred_label_train)\n",
    "\n",
    "visualize_clf(svc_clf, spread_pred_train, spread_pred_label_train, \"Decision Regions - Train accuracy is: {:.3f}\".format(svc_clf.score(spread_pred_train, spread_pred_label_train)), \"PCR_01\", \"PCR_08\")\n",
    "visualize_clf(svc_clf, spread_pred_test, spread_pred_label_test, \"Decision Regions - Test accuracy is: {:.3f}\".format(svc_clf.score(spread_pred_test, spread_pred_label_test)), \"PCR_01\", \"PCR_08\")"
   ]
  },
  {
   "cell_type": "markdown",
   "metadata": {},
   "source": [
    "## Q 16"
   ]
  },
  {
   "cell_type": "code",
   "execution_count": null,
   "metadata": {},
   "outputs": [],
   "source": [
    "svc_clf = make_pipeline(MinMaxScaler(feature_range=(-1,1)), SVC(gamma=5000))\n",
    "svc_clf.fit(spread_pred_train, spread_pred_label_train)\n",
    "\n",
    "visualize_clf(svc_clf, spread_pred_train, spread_pred_label_train, \"Decision Regions - Train accuracy is: {:.3f}\".format(svc_clf.score(spread_pred_train, spread_pred_label_train)), \"PCR_01\", \"PCR_08\")\n",
    "visualize_clf(svc_clf, spread_pred_test, spread_pred_label_test, \"Decision Regions - Test accuracy is: {:.3f}\".format(svc_clf.score(spread_pred_test, spread_pred_label_test)), \"PCR_01\", \"PCR_08\")"
   ]
  }
 ],
 "metadata": {
  "colab": {
   "provenance": []
  },
  "kernelspec": {
   "display_name": "Python 3",
   "language": "python",
   "name": "python3"
  },
  "language_info": {
   "codemirror_mode": {
    "name": "ipython",
    "version": 3
   },
   "file_extension": ".py",
   "mimetype": "text/x-python",
   "name": "python",
   "nbconvert_exporter": "python",
   "pygments_lexer": "ipython3",
   "version": "3.12.8"
  }
 },
 "nbformat": 4,
 "nbformat_minor": 0
}
